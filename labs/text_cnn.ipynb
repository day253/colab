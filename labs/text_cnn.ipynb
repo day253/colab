{
  "nbformat": 4,
  "nbformat_minor": 0,
  "metadata": {
    "colab": {
      "provenance": [],
      "authorship_tag": "ABX9TyP0hZPBm8EwnY65yHU13zw8",
      "include_colab_link": true
    },
    "kernelspec": {
      "name": "python3",
      "display_name": "Python 3"
    },
    "language_info": {
      "name": "python"
    }
  },
  "cells": [
    {
      "cell_type": "markdown",
      "metadata": {
        "id": "view-in-github",
        "colab_type": "text"
      },
      "source": [
        "<a href=\"https://colab.research.google.com/github/day253/labs/blob/master/labs/text_cnn.ipynb\" target=\"_parent\"><img src=\"https://colab.research.google.com/assets/colab-badge.svg\" alt=\"Open In Colab\"/></a>"
      ]
    },
    {
      "cell_type": "code",
      "execution_count": null,
      "metadata": {
        "id": "76uJpeSSYVMD"
      },
      "outputs": [],
      "source": [
        "import torch\n",
        "import torch.nn as nn\n",
        "import torch.nn.functional as F"
      ]
    },
    {
      "cell_type": "code",
      "source": [
        "class TextCNN(nn.Module):\n",
        "    def __init__(self, vocab_size, embedding_dim, num_filters, filter_sizes, num_classes, dropout_rate):\n",
        "        super(TextCNN, self).__init__()\n",
        "\n",
        "        # 词嵌入层\n",
        "        self.embedding = nn.Embedding(vocab_size, embedding_dim)\n",
        "\n",
        "        # 静态通道（不更新词嵌入）\n",
        "        self.static_embedding = nn.Embedding(vocab_size, embedding_dim)\n",
        "        self.static_embedding.weight.requires_grad = False\n",
        "\n",
        "        # 卷积层\n",
        "        self.convs = nn.ModuleList([\n",
        "            nn.Conv2d(in_channels=1, out_channels=num_filters, kernel_size=(fs, embedding_dim))\n",
        "            for fs in filter_sizes\n",
        "        ])\n",
        "\n",
        "        # 全连接层\n",
        "        self.fc = nn.Linear(len(filter_sizes) * num_filters, num_classes)\n",
        "\n",
        "        # Dropout\n",
        "        self.dropout = nn.Dropout(dropout_rate)\n",
        "\n",
        "    def forward(self, x):\n",
        "        # 获取词嵌入\n",
        "        embedded = self.embedding(x).unsqueeze(1)  # (batch_size, 1, seq_len, embedding_dim)\n",
        "        static_embedded = self.static_embedding(x).unsqueeze(1)  # (batch_size, 1, seq_len, embedding_dim)\n",
        "\n",
        "        # 合并静态和非静态通道\n",
        "        combined_embedded = torch.cat([embedded, static_embedded], dim=1)  # (batch_size, 2, seq_len, embedding_dim)\n",
        "\n",
        "        # 卷积操作\n",
        "        conv_outputs = [F.relu(conv(combined_embedded)).squeeze(3) for conv in self.convs]  # [(batch_size, num_filters, seq_len - filter_size + 1)]\n",
        "\n",
        "        # 最大池化\n",
        "        pooled_outputs = [F.max_pool1d(conv_output, conv_output.size(2)).squeeze(2) for conv_output in conv_outputs]  # [(batch_size, num_filters)]\n",
        "\n",
        "        # 合并所有池化结果\n",
        "        pooled = torch.cat(pooled_outputs, 1)  # (batch_size, num_filters * len(filter_sizes))\n",
        "\n",
        "        # Dropout\n",
        "        pooled = self.dropout(pooled)\n",
        "\n",
        "        # 全连接层\n",
        "        logits = self.fc(pooled)\n",
        "\n",
        "        return logits"
      ],
      "metadata": {
        "id": "rmHSoPW8YiXA"
      },
      "execution_count": null,
      "outputs": []
    }
  ]
}